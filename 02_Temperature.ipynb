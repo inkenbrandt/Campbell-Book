{
 "cells": [
  {
   "cell_type": "code",
   "id": "initial_id",
   "metadata": {
    "collapsed": true,
    "ExecuteTime": {
     "end_time": "2024-11-23T00:41:03.026822Z",
     "start_time": "2024-11-23T00:41:01.480964Z"
    }
   },
   "source": [
    "import numpy as np\n",
    "import matplotlib.pyplot as plt\n",
    "\n",
    "def air_temperature_profile(z, T0, H, rho_cp, u_star, zH, d):\n",
    "    \"\"\"\n",
    "    Calculate air temperature at height z.\n",
    "\n",
    "    Parameters:\n",
    "    - z: Height above ground (m)\n",
    "    - T0: Aerodynamic surface temperature (°C)\n",
    "    - H: Sensible heat flux (W/m²)\n",
    "    - rho_cp: Volumetric specific heat of air (J/m³·K)\n",
    "    - u_star: Friction velocity (m/s)\n",
    "    - zH: Roughness parameter for heat transfer (m)\n",
    "    - d: Zero-plane displacement height (m)\n",
    "\n",
    "    Returns:\n",
    "    - Temperature at height z (°C)\n",
    "    \"\"\"\n",
    "    return T0 + (H / (0.4 * rho_cp * u_star)) * np.log((z - d) / zH)\n",
    "\n",
    "# Example parameters\n",
    "z = np.array([0.2, 0.4, 0.8, 1.6])  # Heights (m)\n",
    "T0 = 34.6  # Surface temperature (°C)\n",
    "H = 100  # Sensible heat flux (W/m²)\n",
    "rho_cp = 1200  # Volumetric specific heat of air (J/m³·K)\n",
    "u_star = 0.2  # Friction velocity (m/s)\n",
    "zH = 0.002  # Roughness parameter (m)\n",
    "d = 0.06  # Zero-plane displacement (m)\n",
    "\n",
    "T = air_temperature_profile(z, T0, H, rho_cp, u_star, zH, d)\n",
    "\n",
    "# Plot\n",
    "plt.figure(figsize=(8, 5))\n",
    "plt.plot(T, z, label=\"Temperature Profile\")\n",
    "plt.xlabel(\"Temperature (°C)\")\n",
    "plt.ylabel(\"Height (m)\")\n",
    "plt.title(\"Vertical Air Temperature Profile\")\n",
    "plt.legend()\n",
    "plt.grid()\n",
    "plt.show()\n"
   ]
  },
  {
   "metadata": {
    "ExecuteTime": {
     "end_time": "2024-11-23T00:41:03.295780Z",
     "start_time": "2024-11-23T00:41:03.028833Z"
    }
   },
   "cell_type": "code",
   "source": [
    "def soil_temperature(z, t, T_ave, A0, D, omega):\n",
    "    \"\"\"\n",
    "    Calculate soil temperature at depth z and time t.\n",
    "\n",
    "    Parameters:\n",
    "    - z: Depth (m)\n",
    "    - t: Time (hours)\n",
    "    - T_ave: Average soil surface temperature (°C)\n",
    "    - A0: Amplitude of surface temperature fluctuation (°C)\n",
    "    - D: Damping depth (m)\n",
    "    - omega: Angular frequency (rad/hour)\n",
    "\n",
    "    Returns:\n",
    "    - Soil temperature (°C)\n",
    "    \"\"\"\n",
    "    return T_ave + A0 * np.exp(-z / D) * np.sin(omega * t - z / D)\n",
    "\n",
    "# Example parameters\n",
    "z = np.linspace(0, 0.5, 100)  # Depths (m)\n",
    "t = 12  # Noon (hours)\n",
    "T_ave = 20  # Mean temperature (°C)\n",
    "A0 = 15  # Surface temperature fluctuation amplitude (°C)\n",
    "D = 0.1  # Damping depth (m)\n",
    "omega = np.pi / 12  # Angular frequency (rad/hour)\n",
    "\n",
    "T_soil = soil_temperature(z, t, T_ave, A0, D, omega)\n",
    "\n",
    "# Plot\n",
    "plt.figure(figsize=(8, 5))\n",
    "plt.plot(T_soil, z, label=\"Soil Temperature Profile\")\n",
    "plt.xlabel(\"Temperature (°C)\")\n",
    "plt.ylabel(\"Depth (m)\")\n",
    "plt.title(\"Soil Temperature Variation with Depth\")\n",
    "plt.legend()\n",
    "plt.grid()\n",
    "plt.show()\n"
   ],
   "id": "59ab707a1c895e10"
  },
  {
   "metadata": {
    "ExecuteTime": {
     "end_time": "2024-11-23T00:41:03.306668Z",
     "start_time": "2024-11-23T00:41:03.297789Z"
    }
   },
   "cell_type": "code",
   "source": [
    "def thermal_time(Tx, Tn, Tb, dt=1):\n",
    "    \"\"\"\n",
    "    Calculate thermal time for a day.\n",
    "\n",
    "    Parameters:\n",
    "    - Tx: Maximum daily temperature (°C)\n",
    "    - Tn: Minimum daily temperature (°C)\n",
    "    - Tb: Base temperature (°C)\n",
    "    - dt: Time increment (days)\n",
    "\n",
    "    Returns:\n",
    "    - Thermal time (day-degrees)\n",
    "    \"\"\"\n",
    "    avg_temp = (Tx + Tn) / 2\n",
    "    if avg_temp > Tb:\n",
    "        return (avg_temp - Tb) * dt\n",
    "    return 0\n",
    "\n",
    "# Example usage\n",
    "daily_temps = [(20, 10), (22, 12), (18, 9)]  # (Tx, Tn) pairs\n",
    "Tb = 5  # Base temperature (°C)\n",
    "\n",
    "thermal_times = [thermal_time(Tx, Tn, Tb) for Tx, Tn in daily_temps]\n",
    "print(\"Thermal Times (day-degrees):\", thermal_times)\n"
   ],
   "id": "1f68a8b6e6e3ea09",
   "outputs": [
    {
     "name": "stdout",
     "output_type": "stream",
     "text": [
      "Thermal Times (day-degrees): [10.0, 12.0, 8.5]\n"
     ]
    }
   ],
   "execution_count": 3
  },
  {
   "metadata": {
    "ExecuteTime": {
     "end_time": "2024-11-23T00:41:03.316266Z",
     "start_time": "2024-11-23T00:41:03.308681Z"
    }
   },
   "cell_type": "code",
   "source": [
    "# Weather data (day, Tx, Tn)\n",
    "weather_data = [\n",
    "    (119, 5.0, -0.6), (120, 11.7, 1.7), (121, 21.1, 4.4),\n",
    "    # Add additional rows from the table...\n",
    "]\n",
    "\n",
    "Tb = 3.0  # Base temperature (°C)\n",
    "thermal_requirement = 900  # Day-degrees for flowering\n",
    "\n",
    "# Calculate cumulative thermal time\n",
    "cumulative_thermal_time = 0\n",
    "for day, Tx, Tn in weather_data:\n",
    "    cumulative_thermal_time += thermal_time(Tx, Tn, Tb)\n",
    "    if cumulative_thermal_time >= thermal_requirement:\n",
    "        print(f\"Flowering occurs on day {day}\")\n",
    "        break\n"
   ],
   "id": "b9cce90f99cf1fd1",
   "outputs": [],
   "execution_count": 4
  },
  {
   "metadata": {},
   "cell_type": "code",
   "outputs": [],
   "execution_count": null,
   "source": "",
   "id": "f9feea904d260738"
  }
 ],
 "metadata": {
  "kernelspec": {
   "display_name": "Python 3",
   "language": "python",
   "name": "python3"
  },
  "language_info": {
   "codemirror_mode": {
    "name": "ipython",
    "version": 2
   },
   "file_extension": ".py",
   "mimetype": "text/x-python",
   "name": "python",
   "nbconvert_exporter": "python",
   "pygments_lexer": "ipython2",
   "version": "2.7.6"
  }
 },
 "nbformat": 4,
 "nbformat_minor": 5
}
