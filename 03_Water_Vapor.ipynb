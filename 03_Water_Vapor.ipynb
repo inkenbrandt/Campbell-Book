{
 "cells": [
  {
   "cell_type": "code",
   "id": "initial_id",
   "metadata": {
    "collapsed": true,
    "ExecuteTime": {
     "end_time": "2024-11-23T00:46:05.926213Z",
     "start_time": "2024-11-23T00:46:05.835886Z"
    }
   },
   "source": [
    "import numpy as np\n",
    "\n",
    "def saturation_vapor_pressure(T):\n",
    "    \"\"\"\n",
    "    Compute saturation vapor pressure (kPa) using the Tetens formula.\n",
    "    \n",
    "    Parameters:\n",
    "    - T: Temperature (°C)\n",
    "    \n",
    "    Returns:\n",
    "    - es: Saturation vapor pressure (kPa)\n",
    "    \"\"\"\n",
    "    a = 0.611  # kPa\n",
    "    b = 17.502\n",
    "    c = 240.97  # °C\n",
    "    es = a * np.exp((b * T) / (T + c))\n",
    "    return es\n",
    "\n",
    "# Example usage\n",
    "temperatures = np.array([0, 10, 20, 30])  # °C\n",
    "es_values = saturation_vapor_pressure(temperatures)\n",
    "print(\"Saturation vapor pressures (kPa):\", es_values)\n"
   ],
   "outputs": [
    {
     "name": "stdout",
     "output_type": "stream",
     "text": [
      "Saturation vapor pressures (kPa): [0.611      1.22717634 2.33647943 4.24205135]\n"
     ]
    }
   ],
   "execution_count": 2
  },
  {
   "metadata": {
    "ExecuteTime": {
     "end_time": "2024-11-23T00:46:06.230596Z",
     "start_time": "2024-11-23T00:46:06.223406Z"
    }
   },
   "cell_type": "code",
   "source": [
    "def relative_humidity(ea, Ta):\n",
    "    \"\"\"\n",
    "    Compute relative humidity.\n",
    "    \n",
    "    Parameters:\n",
    "    - ea: Ambient vapor pressure (kPa)\n",
    "    - Ta: Air temperature (°C)\n",
    "    \n",
    "    Returns:\n",
    "    - hr: Relative humidity (fraction)\n",
    "    \"\"\"\n",
    "    es = saturation_vapor_pressure(Ta)\n",
    "    hr = ea / es\n",
    "    return hr\n",
    "\n",
    "# Example usage\n",
    "ea = 1.1  # Ambient vapor pressure (kPa)\n",
    "Ta = 23  # Air temperature (°C)\n",
    "hr = relative_humidity(ea, Ta)\n",
    "print(f\"Relative humidity: {hr:.2f}\")\n"
   ],
   "id": "3759e459577eb65a",
   "outputs": [
    {
     "name": "stdout",
     "output_type": "stream",
     "text": [
      "Relative humidity: 0.39\n"
     ]
    }
   ],
   "execution_count": 3
  },
  {
   "metadata": {
    "ExecuteTime": {
     "end_time": "2024-11-23T00:46:06.467055Z",
     "start_time": "2024-11-23T00:46:06.459964Z"
    }
   },
   "cell_type": "code",
   "source": [
    "def dew_point_temperature(ea):\n",
    "    \"\"\"\n",
    "    Compute dew point temperature (°C).\n",
    "    \n",
    "    Parameters:\n",
    "    - ea: Ambient vapor pressure (kPa)\n",
    "    \n",
    "    Returns:\n",
    "    - Td: Dew point temperature (°C)\n",
    "    \"\"\"\n",
    "    a = 0.611  # kPa\n",
    "    b = 17.502\n",
    "    c = 240.97  # °C\n",
    "    Td = (c * np.log(ea / a)) / (b - np.log(ea / a))\n",
    "    return Td\n",
    "\n",
    "# Example usage\n",
    "Td = dew_point_temperature(ea)\n",
    "print(f\"Dew point temperature: {Td:.2f} °C\")\n"
   ],
   "id": "1afb401f214d68eb",
   "outputs": [
    {
     "name": "stdout",
     "output_type": "stream",
     "text": [
      "Dew point temperature: 8.38 °C\n"
     ]
    }
   ],
   "execution_count": 4
  },
  {
   "metadata": {
    "ExecuteTime": {
     "end_time": "2024-11-23T00:46:06.715816Z",
     "start_time": "2024-11-23T00:46:06.711145Z"
    }
   },
   "cell_type": "code",
   "source": [
    "def vapor_deficit(ea, Ta):\n",
    "    \"\"\"\n",
    "    Compute vapor deficit (kPa).\n",
    "    \n",
    "    Parameters:\n",
    "    - ea: Ambient vapor pressure (kPa)\n",
    "    - Ta: Air temperature (°C)\n",
    "    \n",
    "    Returns:\n",
    "    - D: Vapor deficit (kPa)\n",
    "    \"\"\"\n",
    "    es = saturation_vapor_pressure(Ta)\n",
    "    D = es - ea\n",
    "    return D\n",
    "\n",
    "# Example usage\n",
    "D = vapor_deficit(ea, Ta)\n",
    "print(f\"Vapor deficit: {D:.2f} kPa\")\n"
   ],
   "id": "853834de14f4da19",
   "outputs": [
    {
     "name": "stdout",
     "output_type": "stream",
     "text": [
      "Vapor deficit: 1.71 kPa\n"
     ]
    }
   ],
   "execution_count": 5
  },
  {
   "metadata": {
    "ExecuteTime": {
     "end_time": "2024-11-23T00:46:07.517834Z",
     "start_time": "2024-11-23T00:46:07.508977Z"
    }
   },
   "cell_type": "code",
   "source": [
    "def psychrometer(Ta, Tw, altitude):\n",
    "    \"\"\"\n",
    "    Solve psychrometer problem.\n",
    "    \n",
    "    Parameters:\n",
    "    - Ta: Air temperature (°C)\n",
    "    - Tw: Wet bulb temperature (°C)\n",
    "    - altitude: Altitude (m)\n",
    "    \n",
    "    Returns:\n",
    "    - Results for vapor pressure, relative humidity, dew point temperature, and vapor deficit.\n",
    "    \"\"\"\n",
    "    # Atmospheric pressure at altitude (kPa)\n",
    "    pa = 101.3 * np.exp(-altitude / 8200)\n",
    "    \n",
    "    # Saturation vapor pressure at Tw and Ta\n",
    "    esw = saturation_vapor_pressure(Tw)\n",
    "    esa = saturation_vapor_pressure(Ta)\n",
    "    \n",
    "    # Vapor pressure (psychrometer equation)\n",
    "    gamma = 0.00066 * pa  # Psychrometric constant (kPa/°C)\n",
    "    ea = esw - gamma * pa * (Ta - Tw)\n",
    "    \n",
    "    # Relative humidity\n",
    "    hr = relative_humidity(ea, Ta)\n",
    "    \n",
    "    # Dew point temperature\n",
    "    Td = dew_point_temperature(ea)\n",
    "    \n",
    "    # Vapor deficit\n",
    "    D = vapor_deficit(ea, Ta)\n",
    "    \n",
    "    return ea, hr, Td, D\n",
    "\n",
    "# Example usage\n",
    "Ta = 34  # °C\n",
    "Tw = 22  # °C\n",
    "altitude = 1200  # m\n",
    "ea, hr, Td, D = psychrometer(Ta, Tw, altitude)\n",
    "print(f\"Vapor pressure: {ea:.2f} kPa, Relative humidity: {hr:.2f}, Dew point: {Td:.2f} °C, Vapor deficit: {D:.2f} kPa\")\n"
   ],
   "id": "361d6499588f5dc3",
   "outputs": [
    {
     "name": "stdout",
     "output_type": "stream",
     "text": [
      "Vapor pressure: -58.01 kPa, Relative humidity: -10.90, Dew point: nan °C, Vapor deficit: 63.33 kPa\n"
     ]
    },
    {
     "name": "stderr",
     "output_type": "stream",
     "text": [
      "C:\\Users\\paulinkenbrandt\\AppData\\Local\\Temp\\1\\ipykernel_26140\\1172661849.py:14: RuntimeWarning: invalid value encountered in log\n",
      "  Td = (c * np.log(ea / a)) / (b - np.log(ea / a))\n"
     ]
    }
   ],
   "execution_count": 6
  },
  {
   "metadata": {
    "ExecuteTime": {
     "end_time": "2024-11-23T00:46:08.180368Z",
     "start_time": "2024-11-23T00:46:08.165483Z"
    }
   },
   "cell_type": "code",
   "source": [
    "# Example 3.3: Psychrometer Calculation\n",
    "# Given air temperature and vapor pressure, find:\n",
    "# Relative humidity, dew point temperature, and wet bulb temperature.\n",
    "\n",
    "def example_3_3(Ta, ea):\n",
    "    \"\"\"\n",
    "    Solve Example 3.3: Given air temperature and vapor pressure, \n",
    "    find relative humidity, dew point temperature, and wet bulb temperature.\n",
    "\n",
    "    Parameters:\n",
    "    - Ta: Air temperature (°C)\n",
    "    - ea: Ambient vapor pressure (kPa)\n",
    "\n",
    "    Returns:\n",
    "    - hr: Relative humidity (fraction)\n",
    "    - Td: Dew point temperature (°C)\n",
    "    - Tw: Wet bulb temperature (°C)\n",
    "    \"\"\"\n",
    "    # Compute relative humidity\n",
    "    hr = relative_humidity(ea, Ta)\n",
    "\n",
    "    # Compute dew point temperature\n",
    "    Td = dew_point_temperature(ea)\n",
    "\n",
    "    # Approximate wet bulb temperature (requires psychrometer lines parallel approximation)\n",
    "    Tw_range = np.linspace(Td, Ta, 100)  # Wet bulb temperatures to test\n",
    "    ea_wet = saturation_vapor_pressure(Tw_range)  # Saturation vapor pressure at Tw\n",
    "    gamma = 0.00066 * 101.3  # Psychrometric constant (sea level, kPa/°C)\n",
    "    ea_calculated = ea_wet - gamma * (Ta - Tw_range)\n",
    "    Tw = Tw_range[np.argmin(np.abs(ea_calculated - ea))]\n",
    "\n",
    "    return hr, Td, Tw\n",
    "\n",
    "# Example input values\n",
    "Ta = 23  # Air temperature (°C)\n",
    "ea = 1.1  # Ambient vapor pressure (kPa)\n",
    "\n",
    "# Perform calculation\n",
    "hr, Td, Tw = example_3_3(Ta, ea)\n",
    "\n",
    "# Output results\n",
    "hr, Td, Tw\n"
   ],
   "id": "a349af20dc3d1145",
   "outputs": [
    {
     "data": {
      "text/plain": [
       "(np.float64(0.3918013817392454),\n",
       " np.float64(8.376640976988147),\n",
       " np.float64(14.580490259478024))"
      ]
     },
     "execution_count": 7,
     "metadata": {},
     "output_type": "execute_result"
    }
   ],
   "execution_count": 7
  },
  {
   "metadata": {},
   "cell_type": "code",
   "outputs": [],
   "execution_count": null,
   "source": [
    "def gravitational_potential(h, g=9.8):\n",
    "    \"\"\"\n",
    "    Calculate gravitational potential.\n",
    "\n",
    "    Parameters:\n",
    "    - h: Height above reference (m)\n",
    "    - g: Gravitational acceleration (m/s²)\n",
    "\n",
    "    Returns:\n",
    "    - Gravitational potential (J/kg)\n",
    "    \"\"\"\n",
    "    return g * h\n",
    "\n",
    "# Example: Gravitational potential at the top of a 30 m tree\n",
    "h_tree = 30  # Height in meters\n",
    "psi_g = gravitational_potential(h_tree)\n",
    "print(f\"Gravitational Potential at 30 m: {psi_g:.2f} J/kg\")\n"
   ],
   "id": "e46d2dd4ab2ff886"
  },
  {
   "metadata": {},
   "cell_type": "code",
   "outputs": [],
   "execution_count": null,
   "source": [
    "def osmotic_potential(C, phi, nu, T):\n",
    "    \"\"\"\n",
    "    Calculate osmotic potential.\n",
    "\n",
    "    Parameters:\n",
    "    - C: Solute concentration (mol/kg)\n",
    "    - phi: Osmotic coefficient\n",
    "    - nu: Number of ions per molecule\n",
    "    - T: Temperature (K)\n",
    "\n",
    "    Returns:\n",
    "    - Osmotic potential (J/kg)\n",
    "    \"\"\"\n",
    "    R = 8.314  # Gas constant (J/mol·K)\n",
    "    return -C * phi * nu * R * T\n",
    "\n",
    "# Example: Osmotic potential of brine (6 molal NaCl at 1.27 osmotic coefficient)\n",
    "C_brine = 6  # mol/kg\n",
    "phi_brine = 1.27\n",
    "nu_NaCl = 2  # NaCl dissociates into 2 ions\n",
    "T_brine = 273 + 18  # Temperature in K\n",
    "psi_o = osmotic_potential(C_brine, phi_brine, nu_NaCl, T_brine)\n",
    "print(f\"Osmotic Potential of Brine: {psi_o:.2f} J/kg\")\n"
   ],
   "id": "250e9b7d2e4e3c8e"
  },
  {
   "metadata": {},
   "cell_type": "code",
   "outputs": [],
   "execution_count": null,
   "source": [
    "def pressure_potential(P, rho=1000):\n",
    "    \"\"\"\n",
    "    Calculate pressure potential.\n",
    "\n",
    "    Parameters:\n",
    "    - P: Pressure (Pa)\n",
    "    - rho: Density of water (kg/m³)\n",
    "\n",
    "    Returns:\n",
    "    - Pressure potential (J/kg)\n",
    "    \"\"\"\n",
    "    return P / rho\n",
    "\n",
    "# Example: Turgor pressure in plant cells\n",
    "psi_total = -700  # Total water potential (J/kg)\n",
    "psi_o_leaf = -1200  # Osmotic potential (J/kg)\n",
    "psi_p_leaf = psi_total - psi_o_leaf\n",
    "print(f\"Turgor Pressure: {psi_p_leaf:.2f} J/kg\")\n"
   ],
   "id": "ada5d439ad97337a"
  },
  {
   "metadata": {},
   "cell_type": "code",
   "outputs": [],
   "execution_count": null,
   "source": [
    "def humidity_at_interface(psi, T):\n",
    "    \"\"\"\n",
    "    Calculate humidity at the liquid-air interface.\n",
    "\n",
    "    Parameters:\n",
    "    - psi: Water potential (J/kg)\n",
    "    - T: Temperature (K)\n",
    "\n",
    "    Returns:\n",
    "    - Humidity (fraction)\n",
    "    \"\"\"\n",
    "    Mw = 0.018  # Molecular mass of water (kg/mol)\n",
    "    R = 8.314  # Gas constant (J/mol·K)\n",
    "    return np.exp(psi * Mw / (R * T))\n",
    "\n",
    "# Example: Humidity inside soil at field capacity\n",
    "psi_field_capacity = -30  # J/kg\n",
    "T_soil = 293  # Temperature (K)\n",
    "humidity = humidity_at_interface(psi_field_capacity, T_soil)\n",
    "print(f\"Humidity at Field Capacity: {humidity:.5f}\")\n"
   ],
   "id": "5d648fc27374bd14"
  },
  {
   "metadata": {},
   "cell_type": "code",
   "outputs": [],
   "execution_count": null,
   "source": [
    "def vapor_pressure(hr, es):\n",
    "    \"\"\"\n",
    "    Calculate vapor pressure at evaporating surface.\n",
    "\n",
    "    Parameters:\n",
    "    - hr: Relative humidity (fraction)\n",
    "    - es: Saturation vapor pressure (kPa)\n",
    "\n",
    "    Returns:\n",
    "    - Vapor pressure (kPa)\n",
    "    \"\"\"\n",
    "    return hr * es\n",
    "\n",
    "# Example: Vapor pressure at Great Salt Lake (from osmotic potential)\n",
    "T_gsl = 273 + 18  # Surface temperature in K\n",
    "es_gsl = saturation_vapor_pressure(18)  # Saturation vapor pressure at 18°C\n",
    "vapor_pressure_gsl = vapor_pressure(humidity_at_interface(psi_o, T_gsl), es_gsl)\n",
    "print(f\"Vapor Pressure at Great Salt Lake: {vapor_pressure_gsl:.2f} kPa\")\n"
   ],
   "id": "bf395bdddbcde933"
  }
 ],
 "metadata": {
  "kernelspec": {
   "display_name": "Python 3",
   "language": "python",
   "name": "python3"
  },
  "language_info": {
   "codemirror_mode": {
    "name": "ipython",
    "version": 2
   },
   "file_extension": ".py",
   "mimetype": "text/x-python",
   "name": "python",
   "nbconvert_exporter": "python",
   "pygments_lexer": "ipython2",
   "version": "2.7.6"
  }
 },
 "nbformat": 4,
 "nbformat_minor": 5
}
