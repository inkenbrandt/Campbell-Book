{
 "cells": [
  {
   "metadata": {},
   "cell_type": "code",
   "outputs": [],
   "execution_count": null,
   "source": "import numpy as np",
   "id": "7c05b622483476fa"
  },
  {
   "cell_type": "code",
   "id": "initial_id",
   "metadata": {
    "collapsed": true,
    "ExecuteTime": {
     "end_time": "2024-11-23T01:17:39.553455Z",
     "start_time": "2024-11-23T01:17:39.548438Z"
    }
   },
   "source": [
    "def gravitational_potential(h, g=9.8):\n",
    "    \"\"\"\n",
    "    Calculate gravitational potential.\n",
    "\n",
    "    Parameters:\n",
    "    - h: Height above reference (m)\n",
    "    - g: Gravitational acceleration (m/s²)\n",
    "\n",
    "    Returns:\n",
    "    - Gravitational potential (J/kg)\n",
    "    \"\"\"\n",
    "    return g * h\n",
    "\n",
    "# Example: Gravitational potential at the top of a 30 m tree\n",
    "h_tree = 30  # Height in meters\n",
    "psi_g = gravitational_potential(h_tree)\n",
    "print(f\"Gravitational Potential at 30 m: {psi_g:.2f} J/kg\")\n"
   ],
   "outputs": [
    {
     "name": "stdout",
     "output_type": "stream",
     "text": [
      "Gravitational Potential at 30 m: 294.00 J/kg\n"
     ]
    }
   ],
   "execution_count": 2
  },
  {
   "metadata": {
    "ExecuteTime": {
     "end_time": "2024-11-23T01:17:39.773215Z",
     "start_time": "2024-11-23T01:17:39.767573Z"
    }
   },
   "cell_type": "code",
   "source": [
    "def osmotic_potential(C, phi, nu, T):\n",
    "    \"\"\"\n",
    "    Calculate osmotic potential.\n",
    "\n",
    "    Parameters:\n",
    "    - C: Solute concentration (mol/kg)\n",
    "    - phi: Osmotic coefficient\n",
    "    - nu: Number of ions per molecule\n",
    "    - T: Temperature (K)\n",
    "\n",
    "    Returns:\n",
    "    - Osmotic potential (J/kg)\n",
    "    \"\"\"\n",
    "    R = 8.314  # Gas constant (J/mol·K)\n",
    "    return -C * phi * nu * R * T\n",
    "\n",
    "# Example: Osmotic potential of brine (6 molal NaCl at 1.27 osmotic coefficient)\n",
    "C_brine = 6  # mol/kg\n",
    "phi_brine = 1.27\n",
    "nu_NaCl = 2  # NaCl dissociates into 2 ions\n",
    "T_brine = 273 + 18  # Temperature in K\n",
    "psi_o = osmotic_potential(C_brine, phi_brine, nu_NaCl, T_brine)\n",
    "print(f\"Osmotic Potential of Brine: {psi_o:.2f} J/kg\")\n"
   ],
   "id": "a42d282a75eb838",
   "outputs": [
    {
     "name": "stdout",
     "output_type": "stream",
     "text": [
      "Osmotic Potential of Brine: -36871.26 J/kg\n"
     ]
    }
   ],
   "execution_count": 3
  },
  {
   "metadata": {
    "ExecuteTime": {
     "end_time": "2024-11-23T01:17:40.008957Z",
     "start_time": "2024-11-23T01:17:40.003445Z"
    }
   },
   "cell_type": "code",
   "source": [
    "def pressure_potential(P, rho=1000):\n",
    "    \"\"\"\n",
    "    Calculate pressure potential.\n",
    "\n",
    "    Parameters:\n",
    "    - P: Pressure (Pa)\n",
    "    - rho: Density of water (kg/m³)\n",
    "\n",
    "    Returns:\n",
    "    - Pressure potential (J/kg)\n",
    "    \"\"\"\n",
    "    return P / rho\n",
    "\n",
    "# Example: Turgor pressure in plant cells\n",
    "psi_total = -700  # Total water potential (J/kg)\n",
    "psi_o_leaf = -1200  # Osmotic potential (J/kg)\n",
    "psi_p_leaf = psi_total - psi_o_leaf\n",
    "print(f\"Turgor Pressure: {psi_p_leaf:.2f} J/kg\")\n"
   ],
   "id": "74d99e04d23a6bdb",
   "outputs": [
    {
     "name": "stdout",
     "output_type": "stream",
     "text": [
      "Turgor Pressure: 500.00 J/kg\n"
     ]
    }
   ],
   "execution_count": 4
  },
  {
   "metadata": {
    "ExecuteTime": {
     "end_time": "2024-11-23T01:17:40.622715Z",
     "start_time": "2024-11-23T01:17:40.568701Z"
    }
   },
   "cell_type": "code",
   "source": [
    "def humidity_at_interface(psi, T):\n",
    "    \"\"\"\n",
    "    Calculate humidity at the liquid-air interface.\n",
    "\n",
    "    Parameters:\n",
    "    - psi: Water potential (J/kg)\n",
    "    - T: Temperature (K)\n",
    "\n",
    "    Returns:\n",
    "    - Humidity (fraction)\n",
    "    \"\"\"\n",
    "    Mw = 0.018  # Molecular mass of water (kg/mol)\n",
    "    R = 8.314  # Gas constant (J/mol·K)\n",
    "    return np.exp(psi * Mw / (R * T))\n",
    "\n",
    "# Example: Humidity inside soil at field capacity\n",
    "psi_field_capacity = -30  # J/kg\n",
    "T_soil = 293  # Temperature (K)\n",
    "humidity = humidity_at_interface(psi_field_capacity, T_soil)\n",
    "print(f\"Humidity at Field Capacity: {humidity:.5f}\")\n"
   ],
   "id": "1705a74016d5eeb5",
   "outputs": [
    {
     "ename": "NameError",
     "evalue": "name 'np' is not defined",
     "output_type": "error",
     "traceback": [
      "\u001B[1;31m---------------------------------------------------------------------------\u001B[0m",
      "\u001B[1;31mNameError\u001B[0m                                 Traceback (most recent call last)",
      "Cell \u001B[1;32mIn[5], line 19\u001B[0m\n\u001B[0;32m     17\u001B[0m psi_field_capacity \u001B[38;5;241m=\u001B[39m \u001B[38;5;241m-\u001B[39m\u001B[38;5;241m30\u001B[39m  \u001B[38;5;66;03m# J/kg\u001B[39;00m\n\u001B[0;32m     18\u001B[0m T_soil \u001B[38;5;241m=\u001B[39m \u001B[38;5;241m293\u001B[39m  \u001B[38;5;66;03m# Temperature (K)\u001B[39;00m\n\u001B[1;32m---> 19\u001B[0m humidity \u001B[38;5;241m=\u001B[39m \u001B[43mhumidity_at_interface\u001B[49m\u001B[43m(\u001B[49m\u001B[43mpsi_field_capacity\u001B[49m\u001B[43m,\u001B[49m\u001B[43m \u001B[49m\u001B[43mT_soil\u001B[49m\u001B[43m)\u001B[49m\n\u001B[0;32m     20\u001B[0m \u001B[38;5;28mprint\u001B[39m(\u001B[38;5;124mf\u001B[39m\u001B[38;5;124m\"\u001B[39m\u001B[38;5;124mHumidity at Field Capacity: \u001B[39m\u001B[38;5;132;01m{\u001B[39;00mhumidity\u001B[38;5;132;01m:\u001B[39;00m\u001B[38;5;124m.5f\u001B[39m\u001B[38;5;132;01m}\u001B[39;00m\u001B[38;5;124m\"\u001B[39m)\n",
      "Cell \u001B[1;32mIn[5], line 14\u001B[0m, in \u001B[0;36mhumidity_at_interface\u001B[1;34m(psi, T)\u001B[0m\n\u001B[0;32m     12\u001B[0m Mw \u001B[38;5;241m=\u001B[39m \u001B[38;5;241m0.018\u001B[39m  \u001B[38;5;66;03m# Molecular mass of water (kg/mol)\u001B[39;00m\n\u001B[0;32m     13\u001B[0m R \u001B[38;5;241m=\u001B[39m \u001B[38;5;241m8.314\u001B[39m  \u001B[38;5;66;03m# Gas constant (J/mol·K)\u001B[39;00m\n\u001B[1;32m---> 14\u001B[0m \u001B[38;5;28;01mreturn\u001B[39;00m \u001B[43mnp\u001B[49m\u001B[38;5;241m.\u001B[39mexp(psi \u001B[38;5;241m*\u001B[39m Mw \u001B[38;5;241m/\u001B[39m (R \u001B[38;5;241m*\u001B[39m T))\n",
      "\u001B[1;31mNameError\u001B[0m: name 'np' is not defined"
     ]
    }
   ],
   "execution_count": 5
  },
  {
   "metadata": {
    "ExecuteTime": {
     "end_time": "2024-11-23T01:17:42.756064Z",
     "start_time": "2024-11-23T01:17:42.739209Z"
    }
   },
   "cell_type": "code",
   "source": [
    "def vapor_pressure(hr, es):\n",
    "    \"\"\"\n",
    "    Calculate vapor pressure at evaporating surface.\n",
    "\n",
    "    Parameters:\n",
    "    - hr: Relative humidity (fraction)\n",
    "    - es: Saturation vapor pressure (kPa)\n",
    "\n",
    "    Returns:\n",
    "    - Vapor pressure (kPa)\n",
    "    \"\"\"\n",
    "    return hr * es\n",
    "\n",
    "# Example: Vapor pressure at Great Salt Lake (from osmotic potential)\n",
    "T_gsl = 273 + 18  # Surface temperature in K\n",
    "es_gsl = saturation_vapor_pressure(18)  # Saturation vapor pressure at 18°C\n",
    "vapor_pressure_gsl = vapor_pressure(humidity_at_interface(psi_o, T_gsl), es_gsl)\n",
    "print(f\"Vapor Pressure at Great Salt Lake: {vapor_pressure_gsl:.2f} kPa\")\n"
   ],
   "id": "c96053fc27bb5403",
   "outputs": [
    {
     "ename": "NameError",
     "evalue": "name 'saturation_vapor_pressure' is not defined",
     "output_type": "error",
     "traceback": [
      "\u001B[1;31m---------------------------------------------------------------------------\u001B[0m",
      "\u001B[1;31mNameError\u001B[0m                                 Traceback (most recent call last)",
      "Cell \u001B[1;32mIn[6], line 16\u001B[0m\n\u001B[0;32m     14\u001B[0m \u001B[38;5;66;03m# Example: Vapor pressure at Great Salt Lake (from osmotic potential)\u001B[39;00m\n\u001B[0;32m     15\u001B[0m T_gsl \u001B[38;5;241m=\u001B[39m \u001B[38;5;241m273\u001B[39m \u001B[38;5;241m+\u001B[39m \u001B[38;5;241m18\u001B[39m  \u001B[38;5;66;03m# Surface temperature in K\u001B[39;00m\n\u001B[1;32m---> 16\u001B[0m es_gsl \u001B[38;5;241m=\u001B[39m \u001B[43msaturation_vapor_pressure\u001B[49m(\u001B[38;5;241m18\u001B[39m)  \u001B[38;5;66;03m# Saturation vapor pressure at 18°C\u001B[39;00m\n\u001B[0;32m     17\u001B[0m vapor_pressure_gsl \u001B[38;5;241m=\u001B[39m vapor_pressure(humidity_at_interface(psi_o, T_gsl), es_gsl)\n\u001B[0;32m     18\u001B[0m \u001B[38;5;28mprint\u001B[39m(\u001B[38;5;124mf\u001B[39m\u001B[38;5;124m\"\u001B[39m\u001B[38;5;124mVapor Pressure at Great Salt Lake: \u001B[39m\u001B[38;5;132;01m{\u001B[39;00mvapor_pressure_gsl\u001B[38;5;132;01m:\u001B[39;00m\u001B[38;5;124m.2f\u001B[39m\u001B[38;5;132;01m}\u001B[39;00m\u001B[38;5;124m kPa\u001B[39m\u001B[38;5;124m\"\u001B[39m)\n",
      "\u001B[1;31mNameError\u001B[0m: name 'saturation_vapor_pressure' is not defined"
     ]
    }
   ],
   "execution_count": 6
  },
  {
   "metadata": {},
   "cell_type": "markdown",
   "source": "Example 4.1: Gravitational Potential",
   "id": "3114cfbbfe47aa3f"
  },
  {
   "metadata": {
    "ExecuteTime": {
     "end_time": "2024-11-23T01:17:52.990258Z",
     "start_time": "2024-11-23T01:17:52.984841Z"
    }
   },
   "cell_type": "code",
   "source": [
    "# Parameters\n",
    "h_surface = 2  # Reference height (m)\n",
    "g = 9.8  # Gravitational acceleration (m/s²)\n",
    "\n",
    "# Gravitational potential\n",
    "psi_g_surface = gravitational_potential(h_surface, g)\n",
    "print(f\"Gravitational Potential at the Soil Surface: {psi_g_surface:.2f} J/kg\")\n"
   ],
   "id": "d68df99bfeb7a6c6",
   "outputs": [
    {
     "name": "stdout",
     "output_type": "stream",
     "text": [
      "Gravitational Potential at the Soil Surface: 19.60 J/kg\n"
     ]
    }
   ],
   "execution_count": 7
  },
  {
   "metadata": {},
   "cell_type": "markdown",
   "source": "Example 4.3: Osmotic Potential of Brine",
   "id": "cfbfc529f6398726"
  },
  {
   "metadata": {
    "ExecuteTime": {
     "end_time": "2024-11-23T01:17:54.005238Z",
     "start_time": "2024-11-23T01:17:54.000431Z"
    }
   },
   "cell_type": "code",
   "source": [
    "# Parameters for brine\n",
    "C_brine = 6  # mol/kg\n",
    "phi_brine = 1.27\n",
    "nu_NaCl = 2  # NaCl dissociates into 2 ions\n",
    "T_brine = 273 + 18  # Temperature in K\n",
    "\n",
    "# Osmotic potential\n",
    "psi_o_brine = osmotic_potential(C_brine, phi_brine, nu_NaCl, T_brine)\n",
    "print(f\"Osmotic Potential of Brine: {psi_o_brine:.2f} J/kg\")\n"
   ],
   "id": "c5e954f88b8980c7",
   "outputs": [
    {
     "name": "stdout",
     "output_type": "stream",
     "text": [
      "Osmotic Potential of Brine: -36871.26 J/kg\n"
     ]
    }
   ],
   "execution_count": 8
  },
  {
   "metadata": {},
   "cell_type": "markdown",
   "source": "Question 4.4: Vapor Pressure and Mole Fraction at the Great Salt Lake",
   "id": "bd134a750b9d81e1"
  },
  {
   "metadata": {
    "ExecuteTime": {
     "end_time": "2024-11-23T01:20:07.113854Z",
     "start_time": "2024-11-23T01:20:06.990496Z"
    }
   },
   "cell_type": "code",
   "source": [
    "import numpy as np\n",
    "# Given parameters\n",
    "psi_o = -3648.84  # Osmotic potential (J/kg)\n",
    "T_surface = 273 + 18  # Surface temperature (K)\n",
    "altitude_gsl = 1280  # Elevation (m)\n",
    "Mw = 0.018  # Molecular weight of water (kg/mol)\n",
    "R = 8.314  # Gas constant (J/mol·K)\n",
    "\n",
    "# Calculate relative humidity\n",
    "hr = np.exp(psi_o * Mw / (R * T_surface))\n",
    "\n",
    "# Saturation vapor pressure at 18°C\n",
    "def saturation_vapor_pressure(T):\n",
    "    a = 0.611  # kPa\n",
    "    b = 17.502\n",
    "    c = 240.97  # °C\n",
    "    return a * np.exp((b * T) / (T + c))\n",
    "\n",
    "es = saturation_vapor_pressure(18)  # Saturation vapor pressure (kPa)\n",
    "\n",
    "# Vapor pressure\n",
    "e = hr * es\n",
    "\n",
    "# Atmospheric pressure at altitude\n",
    "pa = 101.3 * np.exp(-altitude_gsl / 8200)\n",
    "\n",
    "# Vapor mole fraction\n",
    "Xv = e / pa\n",
    "\n",
    "# Results\n",
    "e, Xv\n"
   ],
   "id": "757e9a7197c0a9c8",
   "outputs": [
    {
     "data": {
      "text/plain": [
       "(np.float64(2.007099499536147), np.float64(0.02316070455725164))"
      ]
     },
     "execution_count": 10,
     "metadata": {},
     "output_type": "execute_result"
    }
   ],
   "execution_count": 10
  }
 ],
 "metadata": {
  "kernelspec": {
   "display_name": "Python 3",
   "language": "python",
   "name": "python3"
  },
  "language_info": {
   "codemirror_mode": {
    "name": "ipython",
    "version": 2
   },
   "file_extension": ".py",
   "mimetype": "text/x-python",
   "name": "python",
   "nbconvert_exporter": "python",
   "pygments_lexer": "ipython2",
   "version": "2.7.6"
  }
 },
 "nbformat": 4,
 "nbformat_minor": 5
}
