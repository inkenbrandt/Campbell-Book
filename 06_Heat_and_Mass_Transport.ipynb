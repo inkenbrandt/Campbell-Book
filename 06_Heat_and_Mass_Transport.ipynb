{
 "cells": [
  {
   "cell_type": "code",
   "execution_count": null,
   "id": "initial_id",
   "metadata": {
    "collapsed": true
   },
   "outputs": [],
   "source": [
    ""
   ]
  },
  {
   "metadata": {
    "ExecuteTime": {
     "end_time": "2024-11-23T01:31:19.750180Z",
     "start_time": "2024-11-23T01:31:19.743450Z"
    }
   },
   "cell_type": "code",
   "source": [
    "def fick_law_flux(D, gradient):\n",
    "    \"\"\"\n",
    "    Calculate flux density using Fick's Law.\n",
    "\n",
    "    Parameters:\n",
    "    - D: Diffusivity (m^2/s)\n",
    "    - gradient: Concentration gradient (mol/m^3 per m)\n",
    "\n",
    "    Returns:\n",
    "    - Flux density (mol/m^2/s)\n",
    "    \"\"\"\n",
    "    return -D * gradient\n",
    "\n",
    "# Example usage\n",
    "D_j = 0.2  # Diffusivity (m^2/s)\n",
    "gradient = 10  # Concentration gradient (mol/m^3 per m)\n",
    "flux_density = fick_law_flux(D_j, gradient)\n",
    "print(f\"Flux Density: {flux_density:.2f} mol/m^2/s\")\n"
   ],
   "id": "3aff6c7addab0925",
   "outputs": [
    {
     "name": "stdout",
     "output_type": "stream",
     "text": [
      "Flux Density: -2.00 mol/m^2/s\n"
     ]
    }
   ],
   "execution_count": 1
  },
  {
   "metadata": {
    "ExecuteTime": {
     "end_time": "2024-11-23T01:31:25.138042Z",
     "start_time": "2024-11-23T01:31:25.133621Z"
    }
   },
   "cell_type": "code",
   "source": [
    "def fourier_law_heat_flux(k, temperature_gradient):\n",
    "    \"\"\"\n",
    "    Calculate heat flux density using Fourier's Law.\n",
    "\n",
    "    Parameters:\n",
    "    - k: Thermal conductivity (W/m·K)\n",
    "    - temperature_gradient: Temperature gradient (K/m)\n",
    "\n",
    "    Returns:\n",
    "    - Heat flux density (W/m^2)\n",
    "    \"\"\"\n",
    "    return -k * temperature_gradient\n",
    "\n",
    "# Example usage\n",
    "k = 0.5  # Thermal conductivity (W/m·K)\n",
    "temp_gradient = 20  # Temperature gradient (K/m)\n",
    "heat_flux = fourier_law_heat_flux(k, temp_gradient)\n",
    "print(f\"Heat Flux Density: {heat_flux:.2f} W/m^2\")\n"
   ],
   "id": "70adf3954c507cf2",
   "outputs": [
    {
     "name": "stdout",
     "output_type": "stream",
     "text": [
      "Heat Flux Density: -10.00 W/m^2\n"
     ]
    }
   ],
   "execution_count": 2
  },
  {
   "metadata": {
    "ExecuteTime": {
     "end_time": "2024-11-23T01:31:30.595369Z",
     "start_time": "2024-11-23T01:31:30.590174Z"
    }
   },
   "cell_type": "code",
   "source": [
    "def darcy_law_water_flux(K, potential_gradient):\n",
    "    \"\"\"\n",
    "    Calculate water flux density using Darcy's Law.\n",
    "\n",
    "    Parameters:\n",
    "    - K: Hydraulic conductivity (kg·s/m^3)\n",
    "    - potential_gradient: Water potential gradient (J/kg per m)\n",
    "\n",
    "    Returns:\n",
    "    - Water flux density (kg/m^2/s)\n",
    "    \"\"\"\n",
    "    return -K * potential_gradient\n",
    "\n",
    "# Example usage\n",
    "K = 1e-5  # Hydraulic conductivity (kg·s/m^3)\n",
    "potential_gradient = 500  # Water potential gradient (J/kg per m)\n",
    "water_flux = darcy_law_water_flux(K, potential_gradient)\n",
    "print(f\"Water Flux Density: {water_flux:.2e} kg/m^2/s\")\n"
   ],
   "id": "78525b02b8f7babb",
   "outputs": [
    {
     "name": "stdout",
     "output_type": "stream",
     "text": [
      "Water Flux Density: -5.00e-03 kg/m^2/s\n"
     ]
    }
   ],
   "execution_count": 3
  },
  {
   "metadata": {
    "ExecuteTime": {
     "end_time": "2024-11-23T01:31:36.992590Z",
     "start_time": "2024-11-23T01:31:36.987790Z"
    }
   },
   "cell_type": "code",
   "source": [
    "def integrated_mass_flux(g, C_s, C_a):\n",
    "    \"\"\"\n",
    "    Calculate mass flux using integrated transport equation.\n",
    "\n",
    "    Parameters:\n",
    "    - g: Conductance (mol/m^2/s)\n",
    "    - C_s: Surface concentration (mol/m^3)\n",
    "    - C_a: Air concentration (mol/m^3)\n",
    "\n",
    "    Returns:\n",
    "    - Mass flux (mol/m^2/s)\n",
    "    \"\"\"\n",
    "    return g * (C_s - C_a)\n",
    "\n",
    "# Example usage\n",
    "g = 0.33  # Conductance (mol/m^2/s)\n",
    "C_s = 0.042  # Surface concentration (mol/m^3)\n",
    "C_a = 0.0099  # Air concentration (mol/m^3)\n",
    "mass_flux = integrated_mass_flux(g, C_s, C_a)\n",
    "print(f\"Mass Flux: {mass_flux:.4f} mol/m^2/s\")\n"
   ],
   "id": "a2cb69230bb721cb",
   "outputs": [
    {
     "name": "stdout",
     "output_type": "stream",
     "text": [
      "Mass Flux: 0.0106 mol/m^2/s\n"
     ]
    }
   ],
   "execution_count": 4
  },
  {
   "metadata": {
    "ExecuteTime": {
     "end_time": "2024-11-23T01:31:41.744410Z",
     "start_time": "2024-11-23T01:31:41.738166Z"
    }
   },
   "cell_type": "code",
   "source": [
    "def series_resistance(resistances):\n",
    "    \"\"\"\n",
    "    Calculate total resistance for resistors in series.\n",
    "\n",
    "    Parameters:\n",
    "    - resistances: List of resistances (m^2 s/mol)\n",
    "\n",
    "    Returns:\n",
    "    - Total resistance (m^2 s/mol)\n",
    "    \"\"\"\n",
    "    return sum(resistances)\n",
    "\n",
    "def parallel_conductance(conductances):\n",
    "    \"\"\"\n",
    "    Calculate total conductance for resistors in parallel.\n",
    "\n",
    "    Parameters:\n",
    "    - conductances: List of conductances (mol/m^2/s)\n",
    "\n",
    "    Returns:\n",
    "    - Total conductance (mol/m^2/s)\n",
    "    \"\"\"\n",
    "    return sum(conductances)\n",
    "\n",
    "# Example usage\n",
    "resistances = [6, 4]  # Series resistances (m^2 s/mol)\n",
    "conductances = [0.25, 0.1]  # Parallel conductances (mol/m^2/s)\n",
    "\n",
    "R_total = series_resistance(resistances)\n",
    "G_total = parallel_conductance(conductances)\n",
    "\n",
    "print(f\"Total Resistance (Series): {R_total:.2f} m^2 s/mol\")\n",
    "print(f\"Total Conductance (Parallel): {G_total:.2f} mol/m^2/s\")\n"
   ],
   "id": "18f1f4b571d18973",
   "outputs": [
    {
     "name": "stdout",
     "output_type": "stream",
     "text": [
      "Total Resistance (Series): 10.00 m^2 s/mol\n",
      "Total Conductance (Parallel): 0.35 mol/m^2/s\n"
     ]
    }
   ],
   "execution_count": 5
  },
  {
   "metadata": {
    "ExecuteTime": {
     "end_time": "2024-11-23T01:32:27.788761Z",
     "start_time": "2024-11-23T01:32:27.780458Z"
    }
   },
   "cell_type": "code",
   "source": [
    "# Example 6.2: Heat Flux in Soil\n",
    "\n",
    "# Given data\n",
    "thermal_conductivity = 0.93  # W/m·K\n",
    "temperature_difference = 10  # °C (between 10 cm and 20 cm depths)\n",
    "depth_difference = 0.1  # m (10 cm to 20 cm)\n",
    "\n",
    "# Temperature gradient (K/m)\n",
    "temperature_gradient = temperature_difference / depth_difference\n",
    "\n",
    "# Calculate heat flux using Fourier's Law\n",
    "heat_flux = fourier_law_heat_flux(thermal_conductivity, temperature_gradient)\n",
    "\n",
    "# Output the result\n",
    "heat_flux\n"
   ],
   "id": "9cdb95d106c6c3a4",
   "outputs": [
    {
     "data": {
      "text/plain": [
       "-93.0"
      ]
     },
     "execution_count": 6,
     "metadata": {},
     "output_type": "execute_result"
    }
   ],
   "execution_count": 6
  },
  {
   "metadata": {
    "ExecuteTime": {
     "end_time": "2024-11-23T01:33:03.666173Z",
     "start_time": "2024-11-23T01:33:03.660707Z"
    }
   },
   "cell_type": "code",
   "source": [
    "# Example 6.3: Water Vapor Flux Above a Leaf Surface\n",
    "\n",
    "# Given data\n",
    "conductance = 0.33  # mol/m^2/s (leaf conductance)\n",
    "surface_concentration = 0.042  # mol/m^3 (at the leaf surface)\n",
    "air_concentration = 0.0099  # mol/m^3 (in the air)\n",
    "\n",
    "# Calculate mass flux using integrated mass transport equation\n",
    "water_vapor_flux = integrated_mass_flux(conductance, surface_concentration, air_concentration)\n",
    "\n",
    "# Output the result\n",
    "water_vapor_flux\n"
   ],
   "id": "af03b61a45faf566",
   "outputs": [
    {
     "data": {
      "text/plain": [
       "0.010593000000000002"
      ]
     },
     "execution_count": 7,
     "metadata": {},
     "output_type": "execute_result"
    }
   ],
   "execution_count": 7
  },
  {
   "metadata": {
    "ExecuteTime": {
     "end_time": "2024-11-23T01:33:40.816081Z",
     "start_time": "2024-11-23T01:33:40.810276Z"
    }
   },
   "cell_type": "code",
   "source": [
    "# Example 6.4: Heat Loss from an Animal Surface\n",
    "\n",
    "# Given data\n",
    "thermal_conductivity_air = 0.025  # W/m·K (thermal conductivity of air)\n",
    "thickness = 0.01  # m (thickness of the air layer)\n",
    "temperature_surface = 35  # °C (animal's surface temperature)\n",
    "temperature_air = 25  # °C (ambient air temperature)\n",
    "\n",
    "# Calculate the temperature gradient\n",
    "temperature_gradient = (temperature_surface - temperature_air) / thickness\n",
    "\n",
    "# Calculate heat flux using Fourier's Law\n",
    "heat_flux_animal = fourier_law_heat_flux(thermal_conductivity_air, temperature_gradient)\n",
    "\n",
    "# Output the result\n",
    "heat_flux_animal\n"
   ],
   "id": "625fc6b10f1b43a1",
   "outputs": [
    {
     "data": {
      "text/plain": [
       "-25.0"
      ]
     },
     "execution_count": 8,
     "metadata": {},
     "output_type": "execute_result"
    }
   ],
   "execution_count": 8
  },
  {
   "metadata": {
    "ExecuteTime": {
     "end_time": "2024-11-23T01:34:13.708616Z",
     "start_time": "2024-11-23T01:34:13.703071Z"
    }
   },
   "cell_type": "code",
   "source": [
    "# Example 6.5: Water Flow in Soil\n",
    "\n",
    "# Given data\n",
    "hydraulic_conductivity = 2.5e-6  # m/s (hydraulic conductivity)\n",
    "water_potential_gradient = 50  # J/kg per m (water potential gradient)\n",
    "\n",
    "# Calculate water flux using Darcy's Law\n",
    "water_flux_soil = darcy_law_water_flux(hydraulic_conductivity, water_potential_gradient)\n",
    "\n",
    "# Output the result\n",
    "water_flux_soil\n"
   ],
   "id": "9b5f57b7463fbeb2",
   "outputs": [
    {
     "data": {
      "text/plain": [
       "-0.000125"
      ]
     },
     "execution_count": 9,
     "metadata": {},
     "output_type": "execute_result"
    }
   ],
   "execution_count": 9
  },
  {
   "metadata": {},
   "cell_type": "code",
   "outputs": [],
   "execution_count": null,
   "source": "",
   "id": "8c7df992d1dd4377"
  }
 ],
 "metadata": {
  "kernelspec": {
   "display_name": "Python 3",
   "language": "python",
   "name": "python3"
  },
  "language_info": {
   "codemirror_mode": {
    "name": "ipython",
    "version": 2
   },
   "file_extension": ".py",
   "mimetype": "text/x-python",
   "name": "python",
   "nbconvert_exporter": "python",
   "pygments_lexer": "ipython2",
   "version": "2.7.6"
  }
 },
 "nbformat": 4,
 "nbformat_minor": 5
}
