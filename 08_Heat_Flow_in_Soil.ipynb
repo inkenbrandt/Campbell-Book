{
 "cells": [
  {
   "cell_type": "code",
   "id": "initial_id",
   "metadata": {
    "collapsed": true,
    "ExecuteTime": {
     "end_time": "2024-11-23T01:50:31.590869Z",
     "start_time": "2024-11-23T01:50:31.504129Z"
    }
   },
   "source": [
    "import numpy as np\n",
    "\n",
    "def soil_temperature_profile(T_surface, A_0, w, D, z, t, t0=0):\n",
    "    \"\"\"\n",
    "    Computes the soil temperature at a given depth and time.\n",
    "    \n",
    "    Parameters:\n",
    "    - T_surface: Average surface temperature (°C)\n",
    "    - A_0: Surface temperature amplitude (°C)\n",
    "    - w: Angular frequency (rad/s)\n",
    "    - D: Damping depth (m)\n",
    "    - z: Depth in soil (m)\n",
    "    - t: Time (s)\n",
    "    - t0: Phase shift (s), default is 0\n",
    "    \n",
    "    Returns:\n",
    "    - Temperature at depth z and time t (°C)\n",
    "    \"\"\"\n",
    "    return T_surface + A_0 * np.exp(-z / D) * np.cos(w * t - z / D - t0)\n",
    "\n",
    "def damping_depth(thermal_diffusivity, angular_frequency):\n",
    "    \"\"\"\n",
    "    Calculates the damping depth.\n",
    "    \n",
    "    Parameters:\n",
    "    - thermal_diffusivity: Thermal diffusivity of the soil (m²/s)\n",
    "    - angular_frequency: Angular frequency of temperature fluctuations (rad/s)\n",
    "    \n",
    "    Returns:\n",
    "    - Damping depth (m)\n",
    "    \"\"\"\n",
    "    return np.sqrt(2 * thermal_diffusivity / angular_frequency)\n"
   ],
   "outputs": [],
   "execution_count": 1
  },
  {
   "metadata": {
    "ExecuteTime": {
     "end_time": "2024-11-23T01:50:37.235519Z",
     "start_time": "2024-11-23T01:50:37.230910Z"
    }
   },
   "cell_type": "code",
   "source": [
    "def volumetric_heat_capacity(theta, rho_b, c_mineral, rho_mineral, c_water=4.18, c_organic=1.92, rho_organic=0):\n",
    "    \"\"\"\n",
    "    Calculates volumetric heat capacity of the soil.\n",
    "    \n",
    "    Parameters:\n",
    "    - theta: Water content (m³/m³)\n",
    "    - rho_b: Bulk density (g/cm³)\n",
    "    - c_mineral: Specific heat of minerals (J/g/°C)\n",
    "    - rho_mineral: Density of minerals (g/cm³)\n",
    "    - c_water: Specific heat of water (J/g/°C), default is 4.18\n",
    "    - c_organic: Specific heat of organic matter (J/g/°C), default is 1.92\n",
    "    - rho_organic: Density of organic matter (g/cm³), default is 0\n",
    "    \n",
    "    Returns:\n",
    "    - Volumetric heat capacity (MJ/m³/°C)\n",
    "    \"\"\"\n",
    "    phi_mineral = rho_b / rho_mineral\n",
    "    return phi_mineral * c_mineral + theta * c_water + (1 - phi_mineral - theta) * rho_organic * c_organic\n",
    "\n",
    "def thermal_diffusivity(thermal_conductivity, volumetric_heat_capacity):\n",
    "    \"\"\"\n",
    "    Computes the thermal diffusivity of the soil.\n",
    "    \n",
    "    Parameters:\n",
    "    - thermal_conductivity: Thermal conductivity (W/m/°C)\n",
    "    - volumetric_heat_capacity: Volumetric heat capacity (MJ/m³/°C)\n",
    "    \n",
    "    Returns:\n",
    "    - Thermal diffusivity (m²/s)\n",
    "    \"\"\"\n",
    "    return thermal_conductivity / volumetric_heat_capacity\n"
   ],
   "id": "a46c20150c56a2e",
   "outputs": [],
   "execution_count": 2
  },
  {
   "metadata": {
    "ExecuteTime": {
     "end_time": "2024-11-23T01:50:42.062192Z",
     "start_time": "2024-11-23T01:50:42.057994Z"
    }
   },
   "cell_type": "code",
   "source": [
    "def heat_flux_density(A_0, k, w, D, t, t0=0):\n",
    "    \"\"\"\n",
    "    Calculates the heat flux density at the soil surface.\n",
    "    \n",
    "    Parameters:\n",
    "    - A_0: Surface temperature amplitude (°C)\n",
    "    - k: Thermal conductivity (W/m/°C)\n",
    "    - w: Angular frequency (rad/s)\n",
    "    - D: Damping depth (m)\n",
    "    - t: Time (s)\n",
    "    - t0: Phase shift (s), default is 0\n",
    "    \n",
    "    Returns:\n",
    "    - Heat flux density (W/m²)\n",
    "    \"\"\"\n",
    "    return A_0 * k / D * np.sin(w * t - t0 + np.pi / 4)\n"
   ],
   "id": "51a1807e91112152",
   "outputs": [],
   "execution_count": 3
  },
  {
   "metadata": {
    "ExecuteTime": {
     "end_time": "2024-11-23T01:50:48.929872Z",
     "start_time": "2024-11-23T01:50:48.926147Z"
    }
   },
   "cell_type": "code",
   "source": [
    "def interface_temperature(T1, T2, p1, p2):\n",
    "    \"\"\"\n",
    "    Computes the temperature at the interface of two materials.\n",
    "    \n",
    "    Parameters:\n",
    "    - T1: Temperature of material 1 (°C)\n",
    "    - T2: Temperature of material 2 (°C)\n",
    "    - p1: Thermal admittance of material 1\n",
    "    - p2: Thermal admittance of material 2\n",
    "    \n",
    "    Returns:\n",
    "    - Interface temperature (°C)\n",
    "    \"\"\"\n",
    "    return (T1 * p1 + T2 * p2) / (p1 + p2)\n"
   ],
   "id": "fa57a1460f19a3a6",
   "outputs": [],
   "execution_count": 4
  },
  {
   "metadata": {
    "ExecuteTime": {
     "end_time": "2024-11-23T01:50:55.841524Z",
     "start_time": "2024-11-23T01:50:55.249105Z"
    }
   },
   "cell_type": "code",
   "source": [
    "import matplotlib.pyplot as plt\n",
    "\n",
    "def plot_temperature_depth(T_surface, A_0, w, D, z_range, t):\n",
    "    \"\"\"\n",
    "    Plots temperature vs. depth for given time.\n",
    "    \n",
    "    Parameters:\n",
    "    - T_surface: Surface temperature (°C)\n",
    "    - A_0: Surface temperature amplitude (°C)\n",
    "    - w: Angular frequency (rad/s)\n",
    "    - D: Damping depth (m)\n",
    "    - z_range: Array of depths (m)\n",
    "    - t: Time (s)\n",
    "    \"\"\"\n",
    "    temperatures = [soil_temperature_profile(T_surface, A_0, w, D, z, t) for z in z_range]\n",
    "    plt.plot(temperatures, z_range)\n",
    "    plt.gca().invert_yaxis()\n",
    "    plt.xlabel('Temperature (°C)')\n",
    "    plt.ylabel('Depth (m)')\n",
    "    plt.title('Temperature vs Depth')\n",
    "    plt.show()\n"
   ],
   "id": "2b95328e529db93b",
   "outputs": [],
   "execution_count": 5
  },
  {
   "metadata": {
    "ExecuteTime": {
     "end_time": "2024-11-23T01:52:36.782234Z",
     "start_time": "2024-11-23T01:52:36.768755Z"
    }
   },
   "cell_type": "code",
   "source": [
    "# Example 8.1: Volumetric Heat Capacity Calculation for Loam Soil\n",
    "# Parameters\n",
    "water_content = 0.2  # m³/m³\n",
    "bulk_density = 1.3  # g/cm³\n",
    "c_mineral = 0.87  # J/g/°C\n",
    "rho_mineral = 2.65  # g/cm³\n",
    "c_water = 4.18  # J/g/°C\n",
    "\n",
    "# Volumetric heat capacity calculation\n",
    "phi_mineral = bulk_density / rho_mineral  # Mineral fraction\n",
    "volumetric_heat_capacity = phi_mineral * c_mineral + water_content * c_water  # MJ/m³/°C\n",
    "\n",
    "# Example 8.2: Thermal Conductivity Calculation\n",
    "# Parameters\n",
    "temp = 20  # °C\n",
    "pa = 101000  # Pa (Atmospheric pressure)\n",
    "ka_air = 0.025  # W/m/°C (Thermal conductivity of air)\n",
    "kw = 0.6  # W/m/°C (Thermal conductivity of water)\n",
    "q = 4  # Dimensionless flow factor\n",
    "theta = water_content  # Volume fraction of water\n",
    "phi_mineral = bulk_density / rho_mineral\n",
    "phi_gas = 1 - theta - phi_mineral  # Volume fraction of gas\n",
    "\n",
    "# Latent heat transport calculations\n",
    "latent_heat = 44100  # J/mol\n",
    "slope_saturation = 145  # Pa/°C\n",
    "D_v = 2.42e-5  # m²/s (Vapor diffusivity)\n",
    "vapor_pressure = 2340  # Pa\n",
    "\n",
    "# Vapor phase conductivity\n",
    "k_vapor = ka_air + (latent_heat * D_v * vapor_pressure * slope_saturation) / (pa ** 2)\n",
    "\n",
    "# Fluid conductivity and weighting factors\n",
    "fluid_conductivity = phi_gas * k_vapor + theta * kw\n",
    "g_gas = 0.1  # Shape factor for gas\n",
    "g_water = 1 - 2 * g_gas\n",
    "k_thermal = fluid_conductivity * (g_gas * phi_gas + g_water * theta)\n",
    "\n",
    "volumetric_heat_capacity, k_thermal\n"
   ],
   "id": "c8a779b906e04ffc",
   "outputs": [
    {
     "data": {
      "text/plain": [
       "(1.2627924528301886, 0.02439241417317501)"
      ]
     },
     "execution_count": 6,
     "metadata": {},
     "output_type": "execute_result"
    }
   ],
   "execution_count": 6
  },
  {
   "metadata": {
    "ExecuteTime": {
     "end_time": "2024-11-23T01:54:35.490193Z",
     "start_time": "2024-11-23T01:54:35.486299Z"
    }
   },
   "cell_type": "code",
   "source": [
    "def thermal_conductivity(phi_water, phi_gas, phi_mineral, k_water, k_air, k_mineral, g_gas=0.1):\n",
    "    \"\"\"\n",
    "    Calculates the thermal conductivity of soil based on DeVries' method (Equation 8.13).\n",
    "    \n",
    "    Parameters:\n",
    "    - phi_water: Volume fraction of water (m³/m³)\n",
    "    - phi_gas: Volume fraction of gas (m³/m³)\n",
    "    - phi_mineral: Volume fraction of minerals (m³/m³)\n",
    "    - k_water: Thermal conductivity of water (W/m/°C)\n",
    "    - k_air: Thermal conductivity of air (W/m/°C)\n",
    "    - k_mineral: Thermal conductivity of mineral material (W/m/°C)\n",
    "    - g_gas: Shape factor for gas (default is 0.1)\n",
    "    \n",
    "    Returns:\n",
    "    - Thermal conductivity of the soil (W/m/°C)\n",
    "    \"\"\"\n",
    "    g_water = 1 - 2 * g_gas  # Shape factor for water\n",
    "    k_soil = (\n",
    "        phi_gas * g_gas * k_air +\n",
    "        phi_water * g_water * k_water +\n",
    "        phi_mineral * (1 - g_gas - g_water) * k_mineral\n",
    "    )\n",
    "    return k_soil\n",
    "\n"
   ],
   "id": "1987e1307f02a8b2",
   "outputs": [],
   "execution_count": 7
  },
  {
   "metadata": {
    "ExecuteTime": {
     "end_time": "2024-11-23T01:54:41.041582Z",
     "start_time": "2024-11-23T01:54:41.037122Z"
    }
   },
   "cell_type": "code",
   "source": [
    "# Example parameters\n",
    "phi_water = 0.2  # Volume fraction of water\n",
    "phi_gas = 0.31  # Volume fraction of gas\n",
    "phi_mineral = 0.49  # Volume fraction of minerals\n",
    "k_water = 0.6  # W/m/°C\n",
    "k_air = 0.025  # W/m/°C\n",
    "k_mineral = 2.5  # W/m/°C\n",
    "\n",
    "# Calculate thermal conductivity\n",
    "thermal_k = thermal_conductivity(phi_water, phi_gas, phi_mineral, k_water, k_air, k_mineral)\n",
    "print(f\"Thermal Conductivity: {thermal_k:.4f} W/m/°C\")\n"
   ],
   "id": "6c1fdfefe39df505",
   "outputs": [
    {
     "name": "stdout",
     "output_type": "stream",
     "text": [
      "Thermal Conductivity: 0.2193 W/m/°C\n"
     ]
    }
   ],
   "execution_count": 8
  },
  {
   "metadata": {
    "ExecuteTime": {
     "end_time": "2024-11-23T01:56:30.799794Z",
     "start_time": "2024-11-23T01:56:30.070360Z"
    }
   },
   "cell_type": "code",
   "source": [
    "from scipy.special import erf\n",
    "import numpy as np\n",
    "\n",
    "def temperature_profile(T_surface, T_initial, diffusivity, depth, time):\n",
    "    \"\"\"\n",
    "    Computes the temperature profile in a semi-infinite medium (Equation 8.21).\n",
    "\n",
    "    Parameters:\n",
    "    - T_surface: Surface temperature after sudden change (°C)\n",
    "    - T_initial: Initial temperature of the medium (°C)\n",
    "    - diffusivity: Thermal diffusivity of the medium (m²/s)\n",
    "    - depth: Depth in the medium (m)\n",
    "    - time: Time elapsed since the surface temperature change (s)\n",
    "\n",
    "    Returns:\n",
    "    - Temperature at the given depth and time (°C)\n",
    "    \"\"\"\n",
    "    return T_initial + (T_surface - T_initial) * erf(depth / (2 * np.sqrt(diffusivity * time)))\n"
   ],
   "id": "f89dda507a07948",
   "outputs": [],
   "execution_count": 9
  },
  {
   "metadata": {
    "ExecuteTime": {
     "end_time": "2024-11-23T01:56:45.554621Z",
     "start_time": "2024-11-23T01:56:45.548381Z"
    }
   },
   "cell_type": "code",
   "source": [
    "# Example parameters\n",
    "T_surface = 37  # Surface temperature (°C)\n",
    "T_initial = 20  # Initial temperature (°C)\n",
    "diffusivity = 0.14e-6  # Thermal diffusivity (m²/s)\n",
    "depth = 0.05  # Depth in the medium (m)\n",
    "time = 3600  # Time elapsed (s)\n",
    "\n",
    "# Calculate temperature profile\n",
    "temperature = temperature_profile(T_surface, T_initial, diffusivity, depth, time)\n",
    "print(f\"Temperature at depth {depth} m and time {time} s: {temperature:.2f} °C\")\n"
   ],
   "id": "7357e01aefd5bbe6",
   "outputs": [
    {
     "name": "stdout",
     "output_type": "stream",
     "text": [
      "Temperature at depth 0.05 m and time 3600 s: 35.04 °C\n"
     ]
    }
   ],
   "execution_count": 10
  },
  {
   "metadata": {
    "ExecuteTime": {
     "end_time": "2024-11-23T01:57:01.583695Z",
     "start_time": "2024-11-23T01:57:01.579085Z"
    }
   },
   "cell_type": "code",
   "source": [
    "def heat_flux_surface(T_surface, T_initial, thermal_admittance, time):\n",
    "    \"\"\"\n",
    "    Computes the heat flux at the surface of a semi-infinite medium (Equation 8.22).\n",
    "    \n",
    "    Parameters:\n",
    "    - T_surface: Surface temperature after sudden change (°C)\n",
    "    - T_initial: Initial temperature of the medium (°C)\n",
    "    - thermal_admittance: Thermal admittance of the medium (W/m²/K/s^0.5)\n",
    "    - time: Time elapsed since the surface temperature change (s)\n",
    "    \n",
    "    Returns:\n",
    "    - Heat flux at the surface (W/m²)\n",
    "    \"\"\"\n",
    "    return thermal_admittance * (T_surface - T_initial) / np.sqrt(np.pi * time)\n"
   ],
   "id": "5a65eb5cbd82b2b6",
   "outputs": [],
   "execution_count": 11
  },
  {
   "metadata": {
    "ExecuteTime": {
     "end_time": "2024-11-23T01:57:18.746852Z",
     "start_time": "2024-11-23T01:57:18.742130Z"
    }
   },
   "cell_type": "code",
   "source": [
    "# Example parameters\n",
    "T_surface = 37  # Surface temperature (°C)\n",
    "T_initial = 20  # Initial temperature (°C)\n",
    "thermal_admittance = 100  # Thermal admittance (W/m²/K/s^0.5)\n",
    "time = 3600  # Time elapsed (s)\n",
    "\n",
    "# Calculate surface heat flux\n",
    "heat_flux = heat_flux_surface(T_surface, T_initial, thermal_admittance, time)\n",
    "print(f\"Heat flux at the surface after {time} seconds: {heat_flux:.2f} W/m²\")\n"
   ],
   "id": "3adddc8fdb99b810",
   "outputs": [
    {
     "name": "stdout",
     "output_type": "stream",
     "text": [
      "Heat flux at the surface after 3600 seconds: 15.99 W/m²\n"
     ]
    }
   ],
   "execution_count": 12
  },
  {
   "metadata": {
    "ExecuteTime": {
     "end_time": "2024-11-23T01:58:06.815869Z",
     "start_time": "2024-11-23T01:58:06.812228Z"
    }
   },
   "cell_type": "code",
   "source": [
    "def average_soil_conductance(thermal_admittance, contact_time):\n",
    "    \"\"\"\n",
    "    Computes the average thermal conductance of the soil (Equation 8.23).\n",
    "    \n",
    "    Parameters:\n",
    "    - thermal_admittance: Thermal admittance of the soil (W/m²/K/s^0.5)\n",
    "    - contact_time: Duration of contact with the soil (s)\n",
    "    \n",
    "    Returns:\n",
    "    - Average thermal conductance (W/m²/K)\n",
    "    \"\"\"\n",
    "    return 2 * thermal_admittance / np.sqrt(np.pi * contact_time)\n"
   ],
   "id": "274b8b05094a11d0",
   "outputs": [],
   "execution_count": 13
  },
  {
   "metadata": {
    "ExecuteTime": {
     "end_time": "2024-11-23T01:58:13.831269Z",
     "start_time": "2024-11-23T01:58:13.826476Z"
    }
   },
   "cell_type": "code",
   "source": [
    "# Example parameters\n",
    "thermal_admittance = 100  # Thermal admittance (W/m²/K/s^0.5)\n",
    "contact_time = 3600  # Contact time (s)\n",
    "\n",
    "# Calculate average soil conductance\n",
    "soil_conductance = average_soil_conductance(thermal_admittance, contact_time)\n",
    "print(f\"Average soil conductance over {contact_time} seconds: {soil_conductance:.2f} W/m²/K\")\n"
   ],
   "id": "52001b69029f2f45",
   "outputs": [
    {
     "name": "stdout",
     "output_type": "stream",
     "text": [
      "Average soil conductance over 3600 seconds: 1.88 W/m²/K\n"
     ]
    }
   ],
   "execution_count": 14
  }
 ],
 "metadata": {
  "kernelspec": {
   "display_name": "Python 3",
   "language": "python",
   "name": "python3"
  },
  "language_info": {
   "codemirror_mode": {
    "name": "ipython",
    "version": 2
   },
   "file_extension": ".py",
   "mimetype": "text/x-python",
   "name": "python",
   "nbconvert_exporter": "python",
   "pygments_lexer": "ipython2",
   "version": "2.7.6"
  }
 },
 "nbformat": 4,
 "nbformat_minor": 5
}
